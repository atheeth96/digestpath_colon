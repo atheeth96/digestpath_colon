{
 "cells": [
  {
   "cell_type": "code",
   "execution_count": null,
   "metadata": {},
   "outputs": [],
   "source": [
    "# importing required modules \n",
    "from zipfile import ZipFile \n",
    "  \n",
    "# specifying the zip file name \n",
    "file_name = '/datalab/digest/Colonoscopy_tissue_segment_dataset/tissue-train-pos-v1.zip'\n",
    "  \n",
    "# opening the zip file in READ mode \n",
    "with ZipFile(file_name, 'r') as zip1: \n",
    "\n",
    "    zip1.extractall('/datalab/digest/Colonoscopy_tissue_segment_dataset') \n",
    "    print('Done!') "
   ]
  },
  {
   "cell_type": "code",
   "execution_count": 7,
   "metadata": {},
   "outputs": [
    {
     "name": "stdout",
     "output_type": "stream",
     "text": [
      "colon_classification.ipynb  model_2019_08_26\r\n",
      "colon_extra.ipynb\t    model_2019_08_27\r\n",
      "Colon_post.ipynb\t    model_2019_08_29\r\n",
      "colon_unet.ipynb\t    model_2019_08_30\r\n",
      "colon_unet_resized.ipynb    model_2019_09_19\r\n",
      "discard_cn_overlap\t    model_2019_09_21\r\n",
      "discard_non_normalized\t    model_class_2019_09_24\r\n",
      "discard_normalized\t    model_was2019_08_21\r\n",
      "input_cn_overlap_test\t    predict_unet_colon.ipynb\r\n",
      "input_cn_overlap_train\t    pytorch_unet.ipynb\r\n",
      "input_cn_overlap_train.zip  requirements_datalab.txt\r\n",
      "input_cn_overlap_val\t    requirements.txt\r\n",
      "input_non_normalized\t    sample.jpg\r\n",
      "input_normalized\t    tissue-train-neg_norm\r\n",
      "input_overlap\t\t    tissue-train-neg_norm.zip\r\n",
      "__MACOSX\t\t    tissue-train-pos-v1_color_normalized\r\n",
      "mask_cn_overlap_test\t    tissue-train-pos-v1_mask\r\n",
      "mask_cn_overlap_train\t    tissue-train-pos-v1.zip\r\n",
      "mask_cn_overlap_train.zip   whole_pred\r\n",
      "mask_cn_overlap_val\t    whole_pred_2019_09_23\r\n",
      "masked_img\t\t    whole_pred_2019_09_25\r\n",
      "masked_img_sep\t\t    whole_pred_junk_2019_09_26\r\n",
      "mask_non_normalized\t    whole_pred_neg_2019_09_20\r\n",
      "mask_normalized\t\t    whole_pred_neg_2019_09_25\r\n",
      "mask_overlap\t\t    whole_pred_neg_2019_09_26\r\n",
      "model_2019_08_16\t    whole_pred_test_2019_09_25\r\n",
      "model_2019_08_21\t    whole_pred_test_2019_09_26\r\n",
      "model_2019_08_23\r\n"
     ]
    }
   ],
   "source": [
    "!ls"
   ]
  },
  {
   "cell_type": "code",
   "execution_count": 77,
   "metadata": {},
   "outputs": [],
   "source": [
    "def find_dice(seg,gt):\n",
    "\n",
    "    dice = np.sum(seg[gt==1])*2.0 / (np.sum(seg) + np.sum(gt))\n",
    "    print('find_dice',dice)\n",
    "    return dice_coef\n",
    "\n",
    "def post_process(img_temp):\n",
    "#     img_temp = np.array(img_temp > threshold,dtype=np.float32)        \n",
    "    img_temp = scipy.ndimage.morphology.binary_fill_holes(img_temp)\n",
    "#     img_temp = morphology.remove_small_objects(img_temp, 2000)\n",
    "    kernel = cv2.getStructuringElement(cv2.MORPH_ELLIPSE,(21,21)).flatten()\n",
    "    img_temp = np.asarray(img_temp,dtype=np.uint8)\n",
    "#     print(img_temp)\n",
    "    print(type(skimage.morphology.selem.disk(7)))\n",
    "    \n",
    "    img_temp=cv2.erode(img_temp, np.asarray(skimage.morphology.selem.disk(7),dtype=np.logical), iterations=3)\n",
    "    img_temp=cv2.erode(img_temp, kernel, iterations=1)\n",
    "    img_temp=skimage.morphology.reconstruction(img_temp,skimage.morphology.selem.disk(3))\n",
    "    proc_img=(scipy.ndimage.morphology.binary_fill_holes(img_temp3)).astype(np.float)\n",
    "    return proc_img"
   ]
  },
  {
   "cell_type": "code",
   "execution_count": 78,
   "metadata": {},
   "outputs": [
    {
     "name": "stdout",
     "output_type": "stream",
     "text": [
      "abspath /datalab/digest/Colonoscopy_tissue_segment_dataset/whole_pred_test_2019_09_26\n",
      "(6246, 5363, 3)\n"
     ]
    },
    {
     "data": {
      "image/png": "[encoded data removed]",
      "text/plain": [
       "<Figure size 432x288 with 1 Axes>"
      ]
     },
     "metadata": {
      "needs_background": "light"
     },
     "output_type": "display_data"
    },
    {
     "name": "stdout",
     "output_type": "stream",
     "text": [
      "<class 'numpy.ndarray'>\n"
     ]
    },
    {
     "ename": "AttributeError",
     "evalue": "module 'numpy' has no attribute 'logical'",
     "output_type": "error",
     "traceback": [
      "\u001b[0;31m---------------------------------------------------------------------------\u001b[0m",
      "\u001b[0;31mAttributeError\u001b[0m                            Traceback (most recent call last)",
      "\u001b[0;32m<ipython-input-78-fe54a2054cf4>\u001b[0m in \u001b[0;36m<module>\u001b[0;34m()\u001b[0m\n\u001b[1;32m     30\u001b[0m     \u001b[0mplt\u001b[0m\u001b[0;34m.\u001b[0m\u001b[0mimshow\u001b[0m\u001b[0;34m(\u001b[0m\u001b[0mBimg\u001b[0m\u001b[0;34m)\u001b[0m\u001b[0;34m\u001b[0m\u001b[0;34m\u001b[0m\u001b[0m\n\u001b[1;32m     31\u001b[0m     \u001b[0mplt\u001b[0m\u001b[0;34m.\u001b[0m\u001b[0mshow\u001b[0m\u001b[0;34m(\u001b[0m\u001b[0;34m)\u001b[0m\u001b[0;34m\u001b[0m\u001b[0;34m\u001b[0m\u001b[0m\n\u001b[0;32m---> 32\u001b[0;31m     \u001b[0mproc_img\u001b[0m \u001b[0;34m=\u001b[0m \u001b[0mpost_process\u001b[0m\u001b[0;34m(\u001b[0m\u001b[0mBimg\u001b[0m\u001b[0;34m)\u001b[0m\u001b[0;34m\u001b[0m\u001b[0;34m\u001b[0m\u001b[0m\n\u001b[0m\u001b[1;32m     33\u001b[0m     \u001b[0mplt\u001b[0m\u001b[0;34m.\u001b[0m\u001b[0mimshow\u001b[0m\u001b[0;34m(\u001b[0m\u001b[0mproc_img\u001b[0m\u001b[0;34m)\u001b[0m\u001b[0;34m\u001b[0m\u001b[0;34m\u001b[0m\u001b[0m\n\u001b[1;32m     34\u001b[0m     \u001b[0mplt\u001b[0m\u001b[0;34m.\u001b[0m\u001b[0mshow\u001b[0m\u001b[0;34m(\u001b[0m\u001b[0;34m)\u001b[0m\u001b[0;34m\u001b[0m\u001b[0;34m\u001b[0m\u001b[0m\n",
      "\u001b[0;32m<ipython-input-77-eba6344e5d2a>\u001b[0m in \u001b[0;36mpost_process\u001b[0;34m(img_temp)\u001b[0m\n\u001b[1;32m     14\u001b[0m     \u001b[0mprint\u001b[0m\u001b[0;34m(\u001b[0m\u001b[0mtype\u001b[0m\u001b[0;34m(\u001b[0m\u001b[0mskimage\u001b[0m\u001b[0;34m.\u001b[0m\u001b[0mmorphology\u001b[0m\u001b[0;34m.\u001b[0m\u001b[0mselem\u001b[0m\u001b[0;34m.\u001b[0m\u001b[0mdisk\u001b[0m\u001b[0;34m(\u001b[0m\u001b[0;36m7\u001b[0m\u001b[0;34m)\u001b[0m\u001b[0;34m)\u001b[0m\u001b[0;34m)\u001b[0m\u001b[0;34m\u001b[0m\u001b[0;34m\u001b[0m\u001b[0m\n\u001b[1;32m     15\u001b[0m \u001b[0;34m\u001b[0m\u001b[0m\n\u001b[0;32m---> 16\u001b[0;31m     \u001b[0mimg_temp\u001b[0m\u001b[0;34m=\u001b[0m\u001b[0mcv2\u001b[0m\u001b[0;34m.\u001b[0m\u001b[0merode\u001b[0m\u001b[0;34m(\u001b[0m\u001b[0mimg_temp\u001b[0m\u001b[0;34m,\u001b[0m \u001b[0mnp\u001b[0m\u001b[0;34m.\u001b[0m\u001b[0masarray\u001b[0m\u001b[0;34m(\u001b[0m\u001b[0mskimage\u001b[0m\u001b[0;34m.\u001b[0m\u001b[0mmorphology\u001b[0m\u001b[0;34m.\u001b[0m\u001b[0mselem\u001b[0m\u001b[0;34m.\u001b[0m\u001b[0mdisk\u001b[0m\u001b[0;34m(\u001b[0m\u001b[0;36m7\u001b[0m\u001b[0;34m)\u001b[0m\u001b[0;34m,\u001b[0m\u001b[0mdtype\u001b[0m\u001b[0;34m=\u001b[0m\u001b[0mnp\u001b[0m\u001b[0;34m.\u001b[0m\u001b[0mlogical\u001b[0m\u001b[0;34m)\u001b[0m\u001b[0;34m,\u001b[0m \u001b[0miterations\u001b[0m\u001b[0;34m=\u001b[0m\u001b[0;36m3\u001b[0m\u001b[0;34m)\u001b[0m\u001b[0;34m\u001b[0m\u001b[0;34m\u001b[0m\u001b[0m\n\u001b[0m\u001b[1;32m     17\u001b[0m     \u001b[0mimg_temp\u001b[0m\u001b[0;34m=\u001b[0m\u001b[0mcv2\u001b[0m\u001b[0;34m.\u001b[0m\u001b[0merode\u001b[0m\u001b[0;34m(\u001b[0m\u001b[0mimg_temp\u001b[0m\u001b[0;34m,\u001b[0m \u001b[0mkernel\u001b[0m\u001b[0;34m,\u001b[0m \u001b[0miterations\u001b[0m\u001b[0;34m=\u001b[0m\u001b[0;36m1\u001b[0m\u001b[0;34m)\u001b[0m\u001b[0;34m\u001b[0m\u001b[0;34m\u001b[0m\u001b[0m\n\u001b[1;32m     18\u001b[0m     \u001b[0mimg_temp\u001b[0m\u001b[0;34m=\u001b[0m\u001b[0mskimage\u001b[0m\u001b[0;34m.\u001b[0m\u001b[0mmorphology\u001b[0m\u001b[0;34m.\u001b[0m\u001b[0mreconstruction\u001b[0m\u001b[0;34m(\u001b[0m\u001b[0mimg_temp\u001b[0m\u001b[0;34m,\u001b[0m\u001b[0mskimage\u001b[0m\u001b[0;34m.\u001b[0m\u001b[0mmorphology\u001b[0m\u001b[0;34m.\u001b[0m\u001b[0mselem\u001b[0m\u001b[0;34m.\u001b[0m\u001b[0mdisk\u001b[0m\u001b[0;34m(\u001b[0m\u001b[0;36m3\u001b[0m\u001b[0;34m)\u001b[0m\u001b[0;34m)\u001b[0m\u001b[0;34m\u001b[0m\u001b[0;34m\u001b[0m\u001b[0m\n",
      "\u001b[0;31mAttributeError\u001b[0m: module 'numpy' has no attribute 'logical'"
     ]
    }
   ],
   "source": [
    "mypath = 'whole_pred_test_2019_09_26'\n",
    "from os import listdir\n",
    "from os.path import isfile, join\n",
    "import os\n",
    "import cv2\n",
    "import numpy as np\n",
    "import matplotlib.pyplot as plt\n",
    "import skimage\n",
    "from skimage import morphology\n",
    "import scipy\n",
    "import numpy as np\n",
    "# print(skimage.morphology.selem.disk(3))\n",
    "# print(skimage.morphology.selem.disk(3))\n",
    "\n",
    "onlyfiles = [f for f in listdir(mypath) if isfile(join(mypath, f))]\n",
    "filelist = []\n",
    "for filename in onlyfiles:\n",
    "    if \"prob\" in filename:\n",
    "#         print(filename)\n",
    "        temp = None\n",
    "    else:\n",
    "        filelist.append(filename)\n",
    "\n",
    "abspath = os.path.abspath(mypath)\n",
    "print('abspath',abspath)\n",
    "for bimg_name in filelist:\n",
    "#     print(os.path.join(abspath,bimg_name))\n",
    "    Bimg = cv2.imread(os.path.join(abspath,bimg_name))\n",
    "    print(Bimg.shape)\n",
    "    plt.imshow(Bimg)\n",
    "    plt.show()\n",
    "    proc_img = post_process(Bimg)\n",
    "    plt.imshow(proc_img)\n",
    "    plt.show()\n",
    "    break\n",
    "    \n",
    "#     print(Bimg.shape)\n",
    "#     find_dice(Bimg,Bimg)\n",
    "#     img = cv2.imread(r'/datalab/digest/Colonoscopy_tissue_segment_dataset/18-02792B_2019-05-07 22_35_03-lv1-2384-13662-5614-5104_prob.jpg')\n",
    "    "
   ]
  },
  {
   "cell_type": "code",
   "execution_count": 8,
   "metadata": {},
   "outputs": [
    {
     "name": "stdout",
     "output_type": "stream",
     "text": [
      "/datalab/digest/Colonoscopy_tissue_segment_dataset\r\n"
     ]
    }
   ],
   "source": [
    "!pwd"
   ]
  },
  {
   "cell_type": "code",
   "execution_count": 58,
   "metadata": {},
   "outputs": [
    {
     "data": {
      "text/plain": [
       "array([[0, 0, 0, 1, 0, 0, 0],\n",
       "       [0, 1, 1, 1, 1, 1, 0],\n",
       "       [0, 1, 1, 1, 1, 1, 0],\n",
       "       [1, 1, 1, 1, 1, 1, 1],\n",
       "       [0, 1, 1, 1, 1, 1, 0],\n",
       "       [0, 1, 1, 1, 1, 1, 0],\n",
       "       [0, 0, 0, 1, 0, 0, 0]], dtype=uint8)"
      ]
     },
     "execution_count": 58,
     "metadata": {},
     "output_type": "execute_result"
    }
   ],
   "source": [
    "import skimage\n",
    "from skimage import morphology\n",
    "morphology.selem.disk(3)"
   ]
  },
  {
   "cell_type": "code",
   "execution_count": null,
   "metadata": {},
   "outputs": [],
   "source": []
  }
 ],
 "metadata": {
  "kernelspec": {
   "display_name": "Python 3",
   "language": "python",
   "name": "python3"
  },
  "language_info": {
   "codemirror_mode": {
    "name": "ipython",
    "version": 3
   },
   "file_extension": ".py",
   "mimetype": "text/x-python",
   "name": "python",
   "nbconvert_exporter": "python",
   "pygments_lexer": "ipython3",
   "version": "3.6.7"
  }
 },
 "nbformat": 4,
 "nbformat_minor": 2
}
