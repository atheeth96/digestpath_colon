{
 "cells": [
  {
   "cell_type": "code",
   "execution_count": 1,
   "metadata": {},
   "outputs": [],
   "source": [
    "import os \n",
    "from tqdm import tqdm_notebook as tqdm \n",
    "import cv2\n",
    "import random\n",
    "import numpy as np"
   ]
  },
  {
   "cell_type": "code",
   "execution_count": 3,
   "metadata": {},
   "outputs": [
    {
     "name": "stdout",
     "output_type": "stream",
     "text": [
      "input_cn_non_overlap_train directory made\n",
      "input_cn_non_overlap_val directory made\n",
      "input_cn_non_overlap_test directory made\n",
      "mask_cn_non_overlap_train directory made\n",
      "mask_cn_non_overlap_val directory made\n",
      "mask_cn_non_overlap_test directory made\n",
      "discard directory made\n",
      "TRAIN PATCHES\n"
     ]
    },
    {
     "data": {
      "application/vnd.jupyter.widget-view+json": {
       "model_id": "2e55da6977704fcf84c96a7740ef5dd8",
       "version_major": 2,
       "version_minor": 0
      },
      "text/plain": [
       "HBox(children=(IntProgress(value=0, max=167), HTML(value='')))"
      ]
     },
     "metadata": {},
     "output_type": "display_data"
    },
    {
     "name": "stdout",
     "output_type": "stream",
     "text": [
      "\n",
      "VALIDATION PATCHES\n"
     ]
    },
    {
     "data": {
      "application/vnd.jupyter.widget-view+json": {
       "model_id": "7e9a8d19420143af9b47c801d7d86b4c",
       "version_major": 2,
       "version_minor": 0
      },
      "text/plain": [
       "HBox(children=(IntProgress(value=0, max=37), HTML(value='')))"
      ]
     },
     "metadata": {},
     "output_type": "display_data"
    },
    {
     "name": "stdout",
     "output_type": "stream",
     "text": [
      "\n",
      "TEST PATCHES\n"
     ]
    },
    {
     "data": {
      "application/vnd.jupyter.widget-view+json": {
       "model_id": "267487e547614eb69bcfedbca18a97d1",
       "version_major": 2,
       "version_minor": 0
      },
      "text/plain": [
       "HBox(children=(IntProgress(value=0, max=46), HTML(value='')))"
      ]
     },
     "metadata": {},
     "output_type": "display_data"
    },
    {
     "name": "stdout",
     "output_type": "stream",
     "text": [
      "\n"
     ]
    }
   ],
   "source": [
    "def gen_patches(list_images,image_write_path,mask_write_path,discard_path):\n",
    "    MASK_PATH='/home/vahadaneabhi01/datalab/digest/Colonoscopy_tissue_segment_dataset/tissue-train-pos-v1_mask'\n",
    "    IMAGE_PATH_NOR='/home/vahadaneabhi01/datalab/digest/Colonoscopy_tissue_segment_dataset/tissue-train-pos-v1'\n",
    "    \n",
    "    for image_ID in tqdm(list_images):\n",
    "        # Format of image_ID : D20180056701_2019-05-21 09_50_58-lv1-27237-28645-8099-3942.jpg\n",
    "        image_name=os.path.join(IMAGE_PATH_NOR,image_ID)\n",
    "        gray_img=cv2.imread(image_name,0)\n",
    "        bgr_img=cv2.imread(image_name,1)\n",
    "        mask_ID=image_ID.split('.')[0]+'_mask.'+image_ID.split('.')[-1]\n",
    "        # Format of mask_ID: D20180056701_2019-05-21 09_50_58-lv1-27237-28645-8099-3942_mask.jpg\n",
    "        mask_name=os.path.join(MASK_PATH,mask_ID)\n",
    "        mask_img=cv2.imread(mask_name,0)\n",
    "        ret,mask_img=cv2.threshold(mask_img,0,255,cv2.THRESH_BINARY+cv2.THRESH_OTSU)\n",
    "\n",
    "\n",
    "\n",
    "        th,img_otsu=cv2.threshold(gray_img,0,255,cv2.THRESH_BINARY_INV+cv2.THRESH_OTSU)\n",
    "        x_range=(img_otsu.shape[0]-512)//512 +1\n",
    "        y_range=(img_otsu.shape[1]-512)//512 +1\n",
    "    \n",
    "        for count_x in (range(x_range)):\n",
    "            start_x_pos=count_x*512\n",
    "            end_x_pos=start_x_pos+512\n",
    "            for count_y in (range(y_range)):\n",
    "                start_y_pos=count_y*512\n",
    "                end_y_pos=start_y_pos+512\n",
    "                \n",
    "\n",
    "                temp_otsu=img_otsu[start_x_pos:end_x_pos,start_y_pos:end_y_pos]\n",
    "                temp_mask=mask_img[start_x_pos:end_x_pos,start_y_pos:end_y_pos]\n",
    "\n",
    "\n",
    "                if len(np.where(temp_otsu==0)[0])<0.6*len(np.where(temp_otsu==255)[0]) and len(np.where(temp_mask==255)[0])>=5000:\n",
    "                    img_write=bgr_img[start_x_pos:end_x_pos,start_y_pos:end_y_pos,:]\n",
    "                    #print(img_write.shape)\n",
    "\n",
    "                    write_path_image=os.path.join(image_write_path,image_ID.split('.')[0]+\\\n",
    "                                              \"_{}_{}.jpg\".format(count_x,count_y))\n",
    "            # Format of image_ID now: D20180056701_2019-05-21 09_50_58-lv1-27237-28645-8099-3942_<count_x>_<count_y>.jpg\n",
    "                    cv2.imwrite(write_path_image,img_write)\n",
    "                    write_path_mask=os.path.join(mask_write_path,mask_ID.split('_mask')[0]+\\\n",
    "                                                  \"_{}_{}\".format(count_x,count_y)+'_mask.jpg')\n",
    "            # Format of mask_ID now: D20180056701_2019-05-21 09_50_58-lv1-27237-28645-8099-3942_<count_x>_<count_y>_mask.jpg\n",
    "                    cv2.imwrite(write_path_mask,temp_mask)\n",
    "#                 else:\n",
    "                    \n",
    "# #                     write_path_discard=os.path.join(discard_path,mask_ID.split('.')[0]+\\\n",
    "# #                                                   \"{}_{}.jpg\".format(count_x,count_y))\n",
    "# #                     cv2.imwrite(write_path_discard,temp_mask)\n",
    "                    \n",
    "\n",
    "\n",
    "\n",
    "def extract_non_overlap_patches(MASK_PATH,IMAGE_PATH,IMAGE_WRITE_PATH,MASK_WRITE_PATH,DISCARD_WRITE_PATH):\n",
    "    must_include=['18-00530B_2019-05-07 23_56_22-lv1-11712-16122-7372-7686.jpg',\\\n",
    "        '18-01080B_2019-05-07 21_33_52-lv1-15262-19621-5715-4803.jpg',\\\n",
    "        '18-03912A_2019-05-07 22_55_07-lv1-16713-11566-3121-5791.jpg',\\\n",
    "        '18-04842A_2019-05-07 23_36_39-lv1-21930-4017-5709-5966.jpg',\\\n",
    "        '18-09926A_2019-05-08 00_06_27-lv1-23990-14292-4181-5408.jpg',\\\n",
    "        '18-13347A_2019-05-08 01_31_58-lv1-14057-17758-5693-6244.jpg',\\\n",
    "        '2018_68099_1-1_2019-02-20 23_21_13-lv1-7948-15919-4988-5294.jpg',\\\n",
    "        '2018_72876_1-1_2019-02-21 00_28_52-lv1-31103-26670-3231-3747.jpg',\\\n",
    "        '2018_73834_1-1_2019-02-21 00_16_28-lv1-43278-10364-7406-7672.jpg',\\\n",
    "        '2018_74969_1-1_2019-02-21 00_48_39-lv1-39175-17160-3764-3967.jpg',\\\n",
    "        '2018_83220_1-1_2019-02-20 18_33_11-lv1-58151-37497-5712-3460.jpg',\\\n",
    "        '2019_01246_1-1_2019-02-20 19_23_52-lv1-41847-6127-5995-4660.jpg',\\\n",
    "        '2019_02170_1-2_2019-02-20 19_37_17-lv1-18315-29727-7652-5581.jpg',\\\n",
    "        '2019_03867_1-1_2019-02-20 20_00_32-lv1-36172-15430-6105-5822.jpg',\\\n",
    "        '2019_05944_1-1_2019-02-20 20_42_06-lv1-31069-20357-7018-5934.jpg',\\\n",
    "        '1901940-1_2019-04-30 10_30_47-lv1-39947-11074-3848-5785.jpg',\\\n",
    "        '1800883002_2019-04-30 09_57_31-lv1-28885-30819-3472-3263.jpg',\\\n",
    "        'D201710920_2019-05-21 11_52_57-lv1-33661-31501-7087-7660.jpg',\\\n",
    "        'D201711541_2019-05-21 11_28_51-lv1-39189-27851-3979-5553.jpg',\\\n",
    "        'D201802733_2019-05-14 15_41_01-lv1-18828-14936-7756-5310.jpg']\n",
    "    \n",
    "    image_path_list=[IMAGE_WRITE_PATH+'_train',IMAGE_WRITE_PATH+'_val',IMAGE_WRITE_PATH+'_test']\n",
    "    for write_path in image_path_list:\n",
    "        file_name=write_path.split('/')[-1]\n",
    "        if not os.path.exists(write_path):\n",
    "            os.mkdir(write_path)\n",
    "            print('{} directory made'.format(file_name))\n",
    "        else:\n",
    "            print('{} directory exists'.format(file_name))\n",
    "        \n",
    "   \n",
    "    mask_path_list=[MASK_WRITE_PATH+'_train',MASK_WRITE_PATH+'_val',MASK_WRITE_PATH+'_test']\n",
    "\n",
    "    for write_path in mask_path_list:\n",
    "        file_name=write_path.split('/')[-1]\n",
    "        if not os.path.exists(write_path):\n",
    "            os.mkdir(write_path)\n",
    "            print('{} directory made'.format(file_name))\n",
    "        else:\n",
    "            print('{} directory exists'.format(file_name))\n",
    "\n",
    "    if not os.path.exists(DISCARD_WRITE_PATH):\n",
    "        os.mkdir(DISCARD_WRITE_PATH)\n",
    "        print('discard directory made')\n",
    "    else:\n",
    "        print('discard directory exists')\n",
    "\n",
    "    image_list=os.listdir(IMAGE_PATH)\n",
    "    for x in must_include:\n",
    "        image_list.remove(x)\n",
    "    \n",
    "    \n",
    "    random.shuffle(image_list)\n",
    "    train_list_temp=image_list[:int(0.80*len(image_list))]\n",
    "\n",
    "    train_list=train_list_temp[:int(0.80*len(train_list_temp))]\n",
    "    train_list.extend(must_include)\n",
    "    validation_list=train_list_temp[int(0.80*len(train_list_temp)):]\n",
    "    test_list=image_list[int(0.80*len(image_list)):]\n",
    "    print('TRAIN PATCHES')\n",
    "    gen_patches(train_list,IMAGE_WRITE_PATH+'_train',MASK_WRITE_PATH+'_train',DISCARD_WRITE_PATH)\n",
    "    print('VALIDATION PATCHES')\n",
    "    gen_patches(validation_list,IMAGE_WRITE_PATH+'_val',MASK_WRITE_PATH+'_val',DISCARD_WRITE_PATH)\n",
    "    print('TEST PATCHES')\n",
    "    gen_patches(test_list,IMAGE_WRITE_PATH+'_test',MASK_WRITE_PATH+'_test',DISCARD_WRITE_PATH)\n",
    "\n",
    "\n",
    "                    \n",
    "MASK_PATH='/home/vahadaneabhi01/datalab/digest/Colonoscopy_tissue_segment_dataset/tissue-train-pos-v1_mask'\n",
    "IMAGE_PATH_NOR='/home/vahadaneabhi01/datalab/digest/Colonoscopy_tissue_segment_dataset/tissue-train-pos-v1_color_normalized'\n",
    "IMAGE_PATH_NN='/home/vahadaneabhi01/datalab/digest/Colonoscopy_tissue_segment_dataset/tissue-train-pos-v1'\n",
    "IMAGE_WRITE_PATH='/home/vahadaneabhi01/datalab/digest/Colonoscopy_tissue_segment_dataset/input_cn_non_overlap'\n",
    "MASK_WRITE_PATH='/home/vahadaneabhi01/datalab/digest/Colonoscopy_tissue_segment_dataset/mask_cn_non_overlap'\n",
    "DISCARD_WRITE_PATH='/home/vahadaneabhi01/datalab/digest/Colonoscopy_tissue_segment_dataset/discard_cn_non_overlap'\n",
    "\n",
    " \n",
    "extract_non_overlap_patches(MASK_PATH,IMAGE_PATH_NOR,IMAGE_WRITE_PATH,MASK_WRITE_PATH,DISCARD_WRITE_PATH)\n"
   ]
  },
  {
   "cell_type": "code",
   "execution_count": null,
   "metadata": {},
   "outputs": [],
   "source": []
  }
 ],
 "metadata": {
  "kernelspec": {
   "display_name": "Python 3",
   "language": "python",
   "name": "python3"
  },
  "language_info": {
   "codemirror_mode": {
    "name": "ipython",
    "version": 3
   },
   "file_extension": ".py",
   "mimetype": "text/x-python",
   "name": "python",
   "nbconvert_exporter": "python",
   "pygments_lexer": "ipython3",
   "version": "3.6.7"
  }
 },
 "nbformat": 4,
 "nbformat_minor": 2
}
